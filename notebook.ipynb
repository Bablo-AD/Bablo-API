{
 "cells": [
  {
   "cell_type": "code",
   "execution_count": 1,
   "metadata": {},
   "outputs": [
    {
     "data": {
      "text/plain": [
       "True"
      ]
     },
     "execution_count": 1,
     "metadata": {},
     "output_type": "execute_result"
    }
   ],
   "source": [
    "from dotenv import load_dotenv\n",
    "from brain import brain_api,message_history\n",
    "from data import HabiticaData,GoogleKeepData\n",
    "import os\n",
    "load_dotenv()"
   ]
  },
  {
   "cell_type": "code",
   "execution_count": 2,
   "metadata": {},
   "outputs": [
    {
     "data": {
      "text/plain": [
       "([\"12.06.23 So today i woke up at 8:15ish brushed my teeth wrote gratitude my mind was fresh and clear Gone upstairs to get some sunlight. Came to poop the poop was light yellow. Exercised with the home workout app it was a good workout i am noticing that i am kind off breathing through my mouth these days it is bad i would like to fix it. Then i took bath with new shampoo from homeopathy thing i liked it next i went to post office to post some books that makes some kids learn. Next I came home turned on AC started to go over the email sent by the non-trivial got some interested about the 8000 hours thing then everything collapsed i relapsed and things went haywire i took some powernap then some thinking to get back track and gone to ibaco ice cream to get my mind to actually post in order to stay motivated and building stuff. The internet was less but i did my best then i played with a cockroach it was big and scared me a ton. Anyway the things went wrong are \\n- I didn't stay in the place where i would be productive\\n- I should have made a decision to walk instead of fapping up\\nAnyway i did it so now the only plan is to get away from this is to get up and do things on my purpose like have rigid plans to work on so for tomorrow the iteration 2 starts the main important stuff about iteration 2 is integrating Bablo and Mentor. First integrate Bablo and Mentor app and make them work together.THIS IS MY PURPOSE AND I DO IT.t\",\n",
       "  '10.6.23 Today I woke up brushed teeth done some walking passed of by light yellow poop. Done some exercise by walk and gone to my bros house to play some cards and stuff and i am not gonna discuss about it i am gonna discuss about the shape work that i have been producing so \\n'],\n",
       " ['Task Name                Date',\n",
       "  'Oil hair 2023-06-10 03:55:47',\n",
       "  'Sunday grooming list 2023-06-10 03:55:47',\n",
       "  'Gratitude journal 2023-06-10 17:01:52',\n",
       "  'Toilet 2023-06-10 17:01:53',\n",
       "  'Exercise 2023-06-10 17:01:54',\n",
       "  'Sunlight 2023-06-10 17:01:56',\n",
       "  'Water the plants 2023-06-10 17:02:01',\n",
       "  'Turn on focus mode 2023-06-10 17:02:06',\n",
       "  'Worship god 2023-06-10 17:02:07',\n",
       "  'Podcast 2023-06-10 17:02:08',\n",
       "  'Hindi 2023-06-10 17:02:11',\n",
       "  'Read book 2023-06-10 17:02:12',\n",
       "  'Study for 6 to 8 2023-06-10 17:02:18',\n",
       "  'External perspective thinking 2023-06-10 17:02:19',\n",
       "  'No time wastage 2023-06-10 17:02:25',\n",
       "  'Use social media 2023-06-10 17:02:29',\n",
       "  'Journal 2023-06-10 17:02:30',\n",
       "  'Talk with Master mind 2023-06-10 17:02:33',\n",
       "  '10hrs sleep 2023-06-10 17:02:39',\n",
       "  'Sunday grooming list 2023-06-12 16:35:37',\n",
       "  'Shampoo 2023-06-12 16:35:37',\n",
       "  'Oil hair 2023-06-12 16:35:37',\n",
       "  'Gratitude journal 2023-06-12 16:40:11',\n",
       "  'Toilet 2023-06-12 16:40:17',\n",
       "  'Exercise 2023-06-12 16:40:19',\n",
       "  'Sunlight 2023-06-12 16:40:21',\n",
       "  'Water the plants 2023-06-12 16:40:22',\n",
       "  'Worship god 2023-06-12 16:40:26',\n",
       "  'Read book 2023-06-12 16:40:29',\n",
       "  'Study for 6 to 8 2023-06-12 16:40:30',\n",
       "  'Post on twitter 2023-06-12 16:40:40',\n",
       "  'No time wastage 2023-06-12 16:40:42',\n",
       "  'Journal 2023-06-12 17:28:15',\n",
       "  'Talk with Master mind 2023-06-12 17:28:21'])"
      ]
     },
     "execution_count": 2,
     "metadata": {},
     "output_type": "execute_result"
    }
   ],
   "source": [
    "keep = GoogleKeepData(os.environ.get('KEEP_EMAIL'),os.environ.get('KEEP_PASSWORD'))\n",
    "keep = keep.execute(num_days=3)\n",
    "habitica = HabiticaData(os.environ.get('HABITICA_USER_ID'),os.environ.get('HABITICA_API_KEY'))\n",
    "habitica = habitica.execute(num_days=3)\n",
    "keep,habitica"
   ]
  },
  {
   "cell_type": "code",
   "execution_count": 3,
   "metadata": {},
   "outputs": [
    {
     "data": {
      "text/plain": [
       "[{'role': 'user',\n",
       "  'content': 'Hey now you are my partner who criticizes me and helps me grow. Here I provide you my habits and journal entries from the past 5 days till 2023-06-13 19:31:52.885669'},\n",
       " {'role': 'user',\n",
       "  'content': 'My habits: [\\'Task Name                Date\\', \\'Oil hair 2023-06-10 03:55:47\\', \\'Sunday grooming list 2023-06-10 03:55:47\\', \\'Gratitude journal 2023-06-10 17:01:52\\', \\'Toilet 2023-06-10 17:01:53\\', \\'Exercise 2023-06-10 17:01:54\\', \\'Sunlight 2023-06-10 17:01:56\\', \\'Water the plants 2023-06-10 17:02:01\\', \\'Turn on focus mode 2023-06-10 17:02:06\\', \\'Worship god 2023-06-10 17:02:07\\', \\'Podcast 2023-06-10 17:02:08\\', \\'Hindi 2023-06-10 17:02:11\\', \\'Read book 2023-06-10 17:02:12\\', \\'Study for 6 to 8 2023-06-10 17:02:18\\', \\'External perspective thinking 2023-06-10 17:02:19\\', \\'No time wastage 2023-06-10 17:02:25\\', \\'Use social media 2023-06-10 17:02:29\\', \\'Journal 2023-06-10 17:02:30\\', \\'Talk with Master mind 2023-06-10 17:02:33\\', \\'10hrs sleep 2023-06-10 17:02:39\\', \\'Sunday grooming list 2023-06-12 16:35:37\\', \\'Shampoo 2023-06-12 16:35:37\\', \\'Oil hair 2023-06-12 16:35:37\\', \\'Gratitude journal 2023-06-12 16:40:11\\', \\'Toilet 2023-06-12 16:40:17\\', \\'Exercise 2023-06-12 16:40:19\\', \\'Sunlight 2023-06-12 16:40:21\\', \\'Water the plants 2023-06-12 16:40:22\\', \\'Worship god 2023-06-12 16:40:26\\', \\'Read book 2023-06-12 16:40:29\\', \\'Study for 6 to 8 2023-06-12 16:40:30\\', \\'Post on twitter 2023-06-12 16:40:40\\', \\'No time wastage 2023-06-12 16:40:42\\', \\'Journal 2023-06-12 17:28:15\\', \\'Talk with Master mind 2023-06-12 17:28:21\\']. My journal: [\"12.06.23 So today i woke up at 8:15ish brushed my teeth wrote gratitude my mind was fresh and clear Gone upstairs to get some sunlight. Came to poop the poop was light yellow. Exercised with the home workout app it was a good workout i am noticing that i am kind off breathing through my mouth these days it is bad i would like to fix it. Then i took bath with new shampoo from homeopathy thing i liked it next i went to post office to post some books that makes some kids learn. Next I came home turned on AC started to go over the email sent by the non-trivial got some interested about the 8000 hours thing then everything collapsed i relapsed and things went haywire i took some powernap then some thinking to get back track and gone to ibaco ice cream to get my mind to actually post in order to stay motivated and building stuff. The internet was less but i did my best then i played with a cockroach it was big and scared me a ton. Anyway the things went wrong are \\\\n- I didn\\'t stay in the place where i would be productive\\\\n- I should have made a decision to walk instead of fapping up\\\\nAnyway i did it so now the only plan is to get away from this is to get up and do things on my purpose like have rigid plans to work on so for tomorrow the iteration 2 starts the main important stuff about iteration 2 is integrating Bablo and Mentor. First integrate Bablo and Mentor app and make them work together.THIS IS MY PURPOSE AND I DO IT.t\", \\'10.6.23 Today I woke up brushed teeth done some walking passed of by light yellow poop. Done some exercise by walk and gone to my bros house to play some cards and stuff and i am not gonna discuss about it i am gonna discuss about the shape work that i have been producing so \\\\n\\']'}]"
      ]
     },
     "execution_count": 3,
     "metadata": {},
     "output_type": "execute_result"
    }
   ],
   "source": [
    "from datetime import datetime\n",
    "TARGET_DATE = datetime.today()\n",
    "NUM_DAYS = 5\n",
    "load_user = message_history()\n",
    "load_user.load_mentorship(habitica,keep,TARGET_DATE,NUM_DAYS)\n",
    "load_user.messages"
   ]
  },
  {
   "cell_type": "code",
   "execution_count": 4,
   "metadata": {},
   "outputs": [
    {
     "data": {
      "text/plain": [
       "(\"Thank you for sharing your habits and journal entries with me. It's great to see that you have a variety of positive habits such as gratitude journaling, exercising, and spending time in sunlight. \\n\\nHowever, I noticed that on June 12th, you had a setback and struggled to stay productive. It's important to acknowledge these moments and reflect on what led to them, as you have done in your journal entry. It's also great to see that you have a plan to improve and have set a specific goal for iteration 2. \\n\\nOne suggestion I have is to prioritize your habits and tasks each day. It can be overwhelming to try to do everything on your list, so consider focusing on the most important ones first. Also, try to eliminate any distractions or factors that may lead to unproductive behavior. \\n\\nOverall, keep up the good work and continue to reflect on your progress and areas for improvement.\",\n",
       " 1072)"
      ]
     },
     "execution_count": 4,
     "metadata": {},
     "output_type": "execute_result"
    }
   ],
   "source": [
    "gpt_model = brain_api(os.environ.get('OPENAI_API_KEY'))\n",
    "gpt_model.get_completion(load_user,temperature=0.5,update_history=True)"
   ]
  },
  {
   "cell_type": "code",
   "execution_count": 21,
   "metadata": {},
   "outputs": [],
   "source": [
    "load_user.messages = [{'role': 'user',\n",
    "  'content': 'Hey now you are my partner who criticizes me and helps me grow. Here I provide you my habits and journal entries from the past 5 days till 2023-06-13 19:31:52.885669'},\n",
    " {'role': 'user',\n",
    "  'content': 'My habits: [\\'Task Name                Date\\', \\'Oil hair 2023-06-10 03:55:47\\', \\'Sunday grooming list 2023-06-10 03:55:47\\', \\'Gratitude journal 2023-06-10 17:01:52\\', \\'Toilet 2023-06-10 17:01:53\\', \\'Exercise 2023-06-10 17:01:54\\', \\'Sunlight 2023-06-10 17:01:56\\', \\'Water the plants 2023-06-10 17:02:01\\', \\'Turn on focus mode 2023-06-10 17:02:06\\', \\'Worship god 2023-06-10 17:02:07\\', \\'Podcast 2023-06-10 17:02:08\\', \\'Hindi 2023-06-10 17:02:11\\', \\'Read book 2023-06-10 17:02:12\\', \\'Study for 6 to 8 2023-06-10 17:02:18\\', \\'External perspective thinking 2023-06-10 17:02:19\\', \\'No time wastage 2023-06-10 17:02:25\\', \\'Use social media 2023-06-10 17:02:29\\', \\'Journal 2023-06-10 17:02:30\\', \\'Talk with Master mind 2023-06-10 17:02:33\\', \\'10hrs sleep 2023-06-10 17:02:39\\', \\'Sunday grooming list 2023-06-12 16:35:37\\', \\'Shampoo 2023-06-12 16:35:37\\', \\'Oil hair 2023-06-12 16:35:37\\', \\'Gratitude journal 2023-06-12 16:40:11\\', \\'Toilet 2023-06-12 16:40:17\\', \\'Exercise 2023-06-12 16:40:19\\', \\'Sunlight 2023-06-12 16:40:21\\', \\'Water the plants 2023-06-12 16:40:22\\', \\'Worship god 2023-06-12 16:40:26\\', \\'Read book 2023-06-12 16:40:29\\', \\'Study for 6 to 8 2023-06-12 16:40:30\\', \\'Post on twitter 2023-06-12 16:40:40\\', \\'No time wastage 2023-06-12 16:40:42\\', \\'Journal 2023-06-12 17:28:15\\', \\'Talk with Master mind 2023-06-12 17:28:21\\']. My journal: [\"12.06.23 So today i woke up at 8:15ish brushed my teeth wrote gratitude my mind was fresh and clear Gone upstairs to get some sunlight. Came to poop the poop was light yellow. Exercised with the home workout app it was a good workout i am noticing that i am kind off breathing through my mouth these days it is bad i would like to fix it. Then i took bath with new shampoo from homeopathy thing i liked it next i went to post office to post some books that makes some kids learn. Next I came home turned on AC started to go over the email sent by the non-trivial got some interested about the 8000 hours thing then everything collapsed i relapsed and things went haywire i took some powernap then some thinking to get back track and gone to ibaco ice cream to get my mind to actually post in order to stay motivated and building stuff. The internet was less but i did my best then i played with a cockroach it was big and scared me a ton. Anyway the things went wrong are \\\\n- I didn\\'t stay in the place where i would be productive\\\\n- I should have made a decision to walk instead of fapping up\\\\nAnyway i did it so now the only plan is to get away from this is to get up and do things on my purpose like have rigid plans to work on so for tomorrow the iteration 2 starts the main important stuff about iteration 2 is integrating Bablo and Mentor. First integrate Bablo and Mentor app and make them work together.THIS IS MY PURPOSE AND I DO IT.t\", \\'10.6.23 Today I woke up brushed teeth done some walking passed of by light yellow poop. Done some exercise by walk and gone to my bros house to play some cards and stuff and i am not gonna discuss about it i am gonna discuss about the shape work that i have been producing so \\\\n\\']'},\n",
    " {'role': 'assistant',\n",
    "  'content': \"Thank you for sharing your habits and journal entries with me. It's great to see that you have a variety of positive habits such as gratitude journaling, exercising, and spending time in sunlight. \\n\\nHowever, I noticed that on June 12th, you had a setback and struggled to stay productive. It's important to acknowledge these moments and reflect on what led to them, as you have done in your journal entry. It's also great to see that you have a plan to improve and have set a specific goal for iteration 2. \\n\\nOne suggestion I have is to prioritize your habits and tasks each day. It can be overwhelming to try to do everything on your list, so consider focusing on the most important ones first. Also, try to eliminate any distractions or factors that may lead to unproductive behavior. \\n\\nOverall, keep up the good work and continue to reflect on your progress and areas for improvement.\"}]"
   ]
  },
  {
   "cell_type": "code",
   "execution_count": 22,
   "metadata": {},
   "outputs": [
    {
     "data": {
      "text/plain": [
       "[{'role': 'assistant',\n",
       "  'content': \"Thank you for sharing your habits and journal entries with me. It's great to see that you have a variety of positive habits such as gratitude journaling, exercising, and spending time in sunlight. \\n\\nHowever, I noticed that on June 12th, you had a setback and struggled to stay productive. It's important to acknowledge these moments and reflect on what led to them, as you have done in your journal entry. It's also great to see that you have a plan to improve and have set a specific goal for iteration 2. \\n\\nOne suggestion I have is to prioritize your habits and tasks each day. It can be overwhelming to try to do everything on your list, so consider focusing on the most important ones first. Also, try to eliminate any distractions or factors that may lead to unproductive behavior. \\n\\nOverall, keep up the good work and continue to reflect on your progress and areas for improvement.\"}]"
      ]
     },
     "execution_count": 22,
     "metadata": {},
     "output_type": "execute_result"
    }
   ],
   "source": [
    "load_user.messages = [load_user.messages[-1]]\n",
    "load_user.messages"
   ]
  },
  {
   "cell_type": "code",
   "execution_count": 20,
   "metadata": {},
   "outputs": [
    {
     "data": {
      "text/plain": [
       "[{'role': 'assistant',\n",
       "  'content': \"Thank you for sharing your habits and journal entries with me. It's great to see that you have a variety of positive habits such as gratitude journaling, exercising, and spending time in sunlight. \\n\\nHowever, I noticed that on June 12th, you had a setback and struggled to stay productive. It's important to acknowledge these moments and reflect on what led to them, as you have done in your journal entry. It's also great to see that you have a plan to improve and have set a specific goal for iteration 2. \\n\\nOne suggestion I have is to prioritize your habits and tasks each day. It can be overwhelming to try to do everything on your list, so consider focusing on the most important ones first. Also, try to eliminate any distractions or factors that may lead to unproductive behavior. \\n\\nOverall, keep up the good work and continue to reflect on your progress and areas for improvement.\"},\n",
       " {'role': 'user',\n",
       "  'content': 'Hey i will be passing the output through a python script to get the information so i need them ordered'},\n",
       " {'role': 'user',\n",
       "  'content': 'Hey i would like to watch youtube can you give me a search query that makes improves or makes my life better from what you have read from my journals'}]"
      ]
     },
     "execution_count": 20,
     "metadata": {},
     "output_type": "execute_result"
    }
   ],
   "source": [
    "load_user.load_python_fear()\n",
    "load_user.load_query()\n",
    "load_user.messages"
   ]
  },
  {
   "cell_type": "code",
   "execution_count": 15,
   "metadata": {},
   "outputs": [
    {
     "data": {
      "text/plain": [
       "('Sure, based on your journals, here are some search queries that may help improve or enhance your life:\\n\\n- \"Guided meditation for positive thinking\"\\n- \"Yoga for stress relief\"\\n- \"Healthy meal prep ideas\"\\n- \"Tips for improving productivity\"\\n- \"Books on personal growth and development\"\\n- \"Ways to improve focus and concentration\"\\n- \"Habits of successful people\"\\n- \"How to cultivate gratitude in daily life\"\\n- \"Benefits of spending time in nature\"\\n- \"Tips for better sleep hygiene\"\\n\\nI hope you find these helpful!',\n",
       " 252)"
      ]
     },
     "execution_count": 15,
     "metadata": {},
     "output_type": "execute_result"
    }
   ],
   "source": [
    "#load_user.add_user(f'Hey i would like to watch youtube can you give me a search query that fits my goal')\n",
    "gpt_model.get_completion(load_user,temperature=0.5,update_history=True)"
   ]
  },
  {
   "cell_type": "code",
   "execution_count": 16,
   "metadata": {},
   "outputs": [
    {
     "data": {
      "text/plain": [
       "'Sure, based on your journals, here are some search queries that may help improve or enhance your life:\\n\\n- \"Guided meditation for positive thinking\"\\n- \"Yoga for stress relief\"\\n- \"Healthy meal prep ideas\"\\n- \"Tips for improving productivity\"\\n- \"Books on personal growth and development\"\\n- \"Ways to improve focus and concentration\"\\n- \"Habits of successful people\"\\n- \"How to cultivate gratitude in daily life\"\\n- \"Benefits of spending time in nature\"\\n- \"Tips for better sleep hygiene\"\\n\\nI hope you find these helpful!'"
      ]
     },
     "execution_count": 16,
     "metadata": {},
     "output_type": "execute_result"
    }
   ],
   "source": [
    "load_user.messages[-1]['content']"
   ]
  },
  {
   "cell_type": "code",
   "execution_count": 17,
   "metadata": {},
   "outputs": [
    {
     "data": {
      "text/plain": [
       "['Guided meditation for positive thinking',\n",
       " 'Yoga for stress relief',\n",
       " 'Healthy meal prep ideas',\n",
       " 'Tips for improving productivity',\n",
       " 'Books on personal growth and development',\n",
       " 'Ways to improve focus and concentration',\n",
       " 'Habits of successful people',\n",
       " 'How to cultivate gratitude in daily life',\n",
       " 'Benefits of spending time in nature',\n",
       " 'Tips for better sleep hygiene']"
      ]
     },
     "execution_count": 17,
     "metadata": {},
     "output_type": "execute_result"
    }
   ],
   "source": [
    "import re\n",
    "re.findall(r'\"([^\"]*)\"', load_user.messages[-1]['content'])"
   ]
  },
  {
   "cell_type": "code",
   "execution_count": 25,
   "metadata": {},
   "outputs": [],
   "source": [
    "import openai\n",
    "import os\n",
    "import google.auth\n",
    "from googleapiclient.discovery import build\n",
    "from googleapiclient.errors import HttpError\n",
    "import re\n",
    "from brain import brain_api,message_history\n",
    "\n",
    "class youtube_recommender:\n",
    "  def __init__(self):\n",
    "    # Set up the YouTube Data API client\n",
    "    self.temperature = 0.3\n",
    "    api_service_name = \"youtube\"\n",
    "    api_version = \"v3\"\n",
    "    DEVELOPER_KEY = os.environ.get('YOUTUBE_API_KEY') # Replace with your own API key\n",
    "    self.youtube = build(api_service_name, api_version, developerKey=DEVELOPER_KEY)\n",
    "    self.gpt_model = brain_api(os.environ.get('OPENAI_API_KEY'))\n",
    "\n",
    "  # Makes query\n",
    "  def make_query(self,message_history,goal=''):\n",
    "    message_history.load_python_fear()\n",
    "    message_history.load_query(goal)\n",
    "    self.gpt_model.get_completion(load_user,temperature=self.temperature,update_history=True)\n",
    "    self.query = re.findall(r'\"([^\"]*)\"', message_history.messages[-1]['content'])\n",
    "    return self.query\n",
    "\n",
    "  def youtube_searcher(self):\n",
    "    search_response = self.youtube.search().list(\n",
    "    q=self.query,\n",
    "    type=\"video\",\n",
    "    part=\"id,snippet\",\n",
    "    maxResults=10\n",
    "    ).execute()\n",
    "    videos = []\n",
    "    for search_result in search_response.get(\"items\", []):\n",
    "        video_id = search_result[\"id\"][\"videoId\"]\n",
    "        video_title = search_result[\"snippet\"][\"title\"]\n",
    "        video_description = search_result[\"snippet\"][\"description\"]\n",
    "        video_tags = search_result[\"snippet\"][\"tags\"] if \"tags\" in search_result[\"snippet\"] else []\n",
    "        videos.append((video_title,video_id))\n",
    "    self.youtube_videos = videos\n",
    "    return self.youtube_videos\n",
    "\n",
    "  # We will commenting it for now we will work on it later\n",
    "  # def AI_filter(self):\n",
    "  #   completion = openai.ChatCompletion.create(\n",
    "  #   model=\"gpt-3.5-turbo\",\n",
    "  #   messages=[\n",
    "  #     {\"role\": \"user\",\"content\":f\"User journal: {self.short_journal}. Now i need you to help the user by selecting three youtube videos in the interest of {self.aspiration} from this list  {[x[0] for x in self.youtube_videos]}\"}\n",
    "\n",
    "  #     ],\n",
    "  #     temperature=0)\n",
    "  #   return completion.choices[0].message['content']\n",
    "    \n",
    "  \n",
    "  # def refine_completion(self,msg):\n",
    "  #   video_titles = re.findall(r'\\d+\\. (.+)', msg)\n",
    "  #   result_list = {\"completion\":msg}\n",
    "    \n",
    "  #   for title in video_titles:\n",
    "  #       for video in self.youtube_videos:\n",
    "  #         #second.append(video[0].strip(\"'\"))\n",
    "  #         if title.strip(\"'\") == video[0].strip(\"'\"):\n",
    "              \n",
    "  #           result_list[title]= video[1]\n",
    "  #           print(title,video)\n",
    "    \n",
    "  #   return result_list\n",
    "\n",
    "  def execute(self,message_history,goal=''):\n",
    "    self.make_query(message_history,goal)\n",
    "    return self.youtube_searcher()\n"
   ]
  },
  {
   "cell_type": "code",
   "execution_count": 27,
   "metadata": {},
   "outputs": [
    {
     "data": {
      "text/plain": [
       "['Gratitude meditation',\n",
       " 'Morning routine for productivity',\n",
       " 'Healthy meal prep ideas',\n",
       " 'Mindfulness exercises',\n",
       " 'Effective time management techniques']"
      ]
     },
     "execution_count": 27,
     "metadata": {},
     "output_type": "execute_result"
    }
   ],
   "source": [
    "recommend = youtube_recommender()\n",
    "recommend.make_query(load_user)"
   ]
  },
  {
   "cell_type": "code",
   "execution_count": 28,
   "metadata": {},
   "outputs": [
    {
     "data": {
      "text/plain": [
       "[('7 Mindfulness Ideas and Exercises to Add to Your Morning Routine',\n",
       "  'es7yLjG8woI'),\n",
       " ('My Morning Routine // Gratitude, Meditation, Journalling // Sami Clarke',\n",
       "  'NleR3IECvt4'),\n",
       " ('My 5am Mindful Morning Routine #shorts', 'sy_tYXpRT38'),\n",
       " ('Why Moms Are Miserable | Sheryl Ziegler | TEDxWilmingtonWomen',\n",
       "  'MwvctN3Uejg'),\n",
       " ('How to Fall Asleep: Turn off Worry and Insomnia With This Quick Skill',\n",
       "  'CAGUVH_yIRE'),\n",
       " ('रोज़ सुबह सिर्फ 5 मिनट - Boost Your Day: Morning Habits for a Healthy Mind 😜 Revealed',\n",
       "  'nvl4haMwCCk'),\n",
       " ('Tools for Managing Stress &amp; Anxiety | Huberman Lab Podcast #10',\n",
       "  'ntfcfJ28eiU'),\n",
       " ('The Fastest Way to Recover from Burnout', 'k9u9KTZGBDs'),\n",
       " ('Mindful Morning Routine | 10 minimalist and healthy habits | 5AM Routine | RK',\n",
       "  'LqHxldKQZBA'),\n",
       " ('My 5am Summer Morning Routine', 'p56ohoVXWnM')]"
      ]
     },
     "execution_count": 28,
     "metadata": {},
     "output_type": "execute_result"
    }
   ],
   "source": [
    "recommend.youtube_searcher()"
   ]
  },
  {
   "cell_type": "code",
   "execution_count": 29,
   "metadata": {},
   "outputs": [
    {
     "data": {
      "text/plain": [
       "[{'role': 'assistant',\n",
       "  'content': \"Thank you for sharing your habits and journal entries with me. It's great to see that you have a variety of positive habits such as gratitude journaling, exercising, and spending time in sunlight. \\n\\nHowever, I noticed that on June 12th, you had a setback and struggled to stay productive. It's important to acknowledge these moments and reflect on what led to them, as you have done in your journal entry. It's also great to see that you have a plan to improve and have set a specific goal for iteration 2. \\n\\nOne suggestion I have is to prioritize your habits and tasks each day. It can be overwhelming to try to do everything on your list, so consider focusing on the most important ones first. Also, try to eliminate any distractions or factors that may lead to unproductive behavior. \\n\\nOverall, keep up the good work and continue to reflect on your progress and areas for improvement.\"},\n",
       " {'role': 'user',\n",
       "  'content': 'Hey i will be passing the output through a python script to get the information so i need them ordered'},\n",
       " {'role': 'user',\n",
       "  'content': 'Hey i would like to watch youtube can you give me a search query that makes improves or makes my life better from what you have read from my journals'},\n",
       " {'role': 'assistant',\n",
       "  'content': 'Based on your journal entries, here are some search queries that may help improve your life:\\n\\n1. \"Gratitude meditation\" - This can help you cultivate a sense of gratitude and appreciation for the good things in your life.\\n\\n2. \"Morning routine for productivity\" - This can help you establish a morning routine that sets you up for a productive day.\\n\\n3. \"Healthy meal prep ideas\" - This can help you plan and prepare healthy meals to fuel your body.\\n\\n4. \"Mindfulness exercises\" - This can help you practice mindfulness and reduce stress and anxiety.\\n\\n5. \"Effective time management techniques\" - This can help you manage your time more efficiently and get more done in less time.\\n\\nI hope these search queries help you find some useful resources on YouTube!'}]"
      ]
     },
     "execution_count": 29,
     "metadata": {},
     "output_type": "execute_result"
    }
   ],
   "source": [
    "load_user.messages"
   ]
  },
  {
   "cell_type": "code",
   "execution_count": 30,
   "metadata": {},
   "outputs": [
    {
     "data": {
      "text/plain": [
       "('Sure, here are some videos that could benefit the user based on the search queries I provided earlier:\\n\\n1. \"Gratitude Meditation for Positive Energy\" by The Honest Guys\\n2. \"My Morning Routine for Productivity and Success\" by Lavendaire\\n3. \"Healthy Meal Prep for the Week | Meal Plan\" by HealthNut Nutrition\\n4. \"10 Mindfulness Exercises to Reduce Stress and Increase Calm\" by The Mindful Movement\\n5. \"Time Management Tips: How to Get More Done in Less Time\" by Brian Tracy\\n\\nI hope this helps!',\n",
       " 461)"
      ]
     },
     "execution_count": 30,
     "metadata": {},
     "output_type": "execute_result"
    }
   ],
   "source": [
    "load_user.load_python_fear()\n",
    "recommend.gpt_model.get_completion(load_user,temperature=0.3,message=f'Hey i would be passing some results of the query I want you to choose videos that benefit the user')"
   ]
  }
 ],
 "metadata": {
  "kernelspec": {
   "display_name": "env",
   "language": "python",
   "name": "python3"
  },
  "language_info": {
   "codemirror_mode": {
    "name": "ipython",
    "version": 3
   },
   "file_extension": ".py",
   "mimetype": "text/x-python",
   "name": "python",
   "nbconvert_exporter": "python",
   "pygments_lexer": "ipython3",
   "version": "3.11.4"
  },
  "orig_nbformat": 4
 },
 "nbformat": 4,
 "nbformat_minor": 2
}
